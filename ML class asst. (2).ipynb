{
 "cells": [
  {
   "cell_type": "code",
   "execution_count": 100,
   "metadata": {},
   "outputs": [],
   "source": [
    "import pandas as pd\n",
    "import numpy as np"
   ]
  },
  {
   "cell_type": "code",
   "execution_count": 101,
   "metadata": {},
   "outputs": [],
   "source": [
    "df_mail_rishab=pd.read_csv('C:\\\\Users\\\\Rishab\\\\Downloads\\\\Rishab_ML.csv')"
   ]
  },
  {
   "cell_type": "code",
   "execution_count": 102,
   "metadata": {},
   "outputs": [],
   "source": [
    "df_mail_sushant=pd.read_csv('C:\\\\Users\\\\Rishab\\\\Downloads\\\\Sushant_ML.csv')"
   ]
  },
  {
   "cell_type": "code",
   "execution_count": 103,
   "metadata": {},
   "outputs": [],
   "source": [
    "df_mail_shruti=pd.read_csv('C:\\\\Users\\\\Rishab\\\\Downloads\\\\Shruti_ML.csv')"
   ]
  },
  {
   "cell_type": "code",
   "execution_count": 104,
   "metadata": {},
   "outputs": [
    {
     "data": {
      "text/plain": [
       "array(['Updates', 'Social', 'Promotion', 'Forum', 'Spam'], dtype=object)"
      ]
     },
     "execution_count": 104,
     "metadata": {},
     "output_type": "execute_result"
    }
   ],
   "source": [
    "df_mail_rishab['Label'].unique()   # 5 labels"
   ]
  },
  {
   "cell_type": "code",
   "execution_count": 105,
   "metadata": {},
   "outputs": [
    {
     "data": {
      "text/plain": [
       "array(['Update', 'Social', 'Promotion', 'Forum', 'Span'], dtype=object)"
      ]
     },
     "execution_count": 105,
     "metadata": {},
     "output_type": "execute_result"
    }
   ],
   "source": [
    "df_mail_sushant['Label'].unique()"
   ]
  },
  {
   "cell_type": "code",
   "execution_count": 106,
   "metadata": {},
   "outputs": [
    {
     "data": {
      "text/plain": [
       "array(['Span', 'Forum', 'Update', 'Social', 'Promotion'], dtype=object)"
      ]
     },
     "execution_count": 106,
     "metadata": {},
     "output_type": "execute_result"
    }
   ],
   "source": [
    "df_mail_shruti['Label'].unique()"
   ]
  },
  {
   "cell_type": "code",
   "execution_count": 107,
   "metadata": {},
   "outputs": [
    {
     "data": {
      "text/html": [
       "<div>\n",
       "<style scoped>\n",
       "    .dataframe tbody tr th:only-of-type {\n",
       "        vertical-align: middle;\n",
       "    }\n",
       "\n",
       "    .dataframe tbody tr th {\n",
       "        vertical-align: top;\n",
       "    }\n",
       "\n",
       "    .dataframe thead th {\n",
       "        text-align: right;\n",
       "    }\n",
       "</style>\n",
       "<table border=\"1\" class=\"dataframe\">\n",
       "  <thead>\n",
       "    <tr style=\"text-align: right;\">\n",
       "      <th></th>\n",
       "      <th>Subject</th>\n",
       "      <th>Body</th>\n",
       "      <th>Label</th>\n",
       "    </tr>\n",
       "  </thead>\n",
       "  <tbody>\n",
       "    <tr>\n",
       "      <th>0</th>\n",
       "      <td>Security alert</td>\n",
       "      <td>\\t\\n\\t &lt;https://www.gstatic.com/images/brandin...</td>\n",
       "      <td>Updates</td>\n",
       "    </tr>\n",
       "    <tr>\n",
       "      <th>1</th>\n",
       "      <td>Trade SOL and Share $150,000 in SOL!</td>\n",
       "      <td>&lt;https://www.binance.com/bapi/composite/v1/pu...</td>\n",
       "      <td>Updates</td>\n",
       "    </tr>\n",
       "    <tr>\n",
       "      <th>2</th>\n",
       "      <td>Your sign-in has changed</td>\n",
       "      <td>\\t\\n\\t &lt;https://www.gstatic.com/images/brandin...</td>\n",
       "      <td>Updates</td>\n",
       "    </tr>\n",
       "    <tr>\n",
       "      <th>3</th>\n",
       "      <td>Make Your Stablecoins More Stable!</td>\n",
       "      <td>&lt;https://public.bnbstatic.com/image/ufo/20211...</td>\n",
       "      <td>Updates</td>\n",
       "    </tr>\n",
       "    <tr>\n",
       "      <th>4</th>\n",
       "      <td>The 2% Theory community is waiting for you!</td>\n",
       "      <td>Hello,\\n\\nOne of the best parts of 2% Theory i...</td>\n",
       "      <td>Updates</td>\n",
       "    </tr>\n",
       "  </tbody>\n",
       "</table>\n",
       "</div>"
      ],
      "text/plain": [
       "                                       Subject  \\\n",
       "0                               Security alert   \n",
       "1         Trade SOL and Share $150,000 in SOL!   \n",
       "2                     Your sign-in has changed   \n",
       "3           Make Your Stablecoins More Stable!   \n",
       "4  The 2% Theory community is waiting for you!   \n",
       "\n",
       "                                                Body    Label  \n",
       "0  \\t\\n\\t <https://www.gstatic.com/images/brandin...  Updates  \n",
       "1   <https://www.binance.com/bapi/composite/v1/pu...  Updates  \n",
       "2  \\t\\n\\t <https://www.gstatic.com/images/brandin...  Updates  \n",
       "3   <https://public.bnbstatic.com/image/ufo/20211...  Updates  \n",
       "4  Hello,\\n\\nOne of the best parts of 2% Theory i...  Updates  "
      ]
     },
     "execution_count": 107,
     "metadata": {},
     "output_type": "execute_result"
    }
   ],
   "source": [
    "df_mail_rishab.head()   # Dataset has been scraped, the subject , body of email and label can be seen"
   ]
  },
  {
   "cell_type": "code",
   "execution_count": 108,
   "metadata": {},
   "outputs": [
    {
     "data": {
      "text/html": [
       "<div>\n",
       "<style scoped>\n",
       "    .dataframe tbody tr th:only-of-type {\n",
       "        vertical-align: middle;\n",
       "    }\n",
       "\n",
       "    .dataframe tbody tr th {\n",
       "        vertical-align: top;\n",
       "    }\n",
       "\n",
       "    .dataframe thead th {\n",
       "        text-align: right;\n",
       "    }\n",
       "</style>\n",
       "<table border=\"1\" class=\"dataframe\">\n",
       "  <thead>\n",
       "    <tr style=\"text-align: right;\">\n",
       "      <th></th>\n",
       "      <th>Subject</th>\n",
       "      <th>Body</th>\n",
       "      <th>Label</th>\n",
       "    </tr>\n",
       "  </thead>\n",
       "  <tbody>\n",
       "    <tr>\n",
       "      <th>0</th>\n",
       "      <td>Why are BITS Hyderabad students protesting aga...</td>\n",
       "      <td>I don’t think any more explanation is needed a...</td>\n",
       "      <td>Update</td>\n",
       "    </tr>\n",
       "    <tr>\n",
       "      <th>1</th>\n",
       "      <td>Review your latest connections</td>\n",
       "      <td>See Atreya's and other people's connections, e...</td>\n",
       "      <td>Update</td>\n",
       "    </tr>\n",
       "    <tr>\n",
       "      <th>2</th>\n",
       "      <td>Grab your rewards on Cloud DevJam</td>\n",
       "      <td>\\t\\n &lt;https://www.techgig.com/files/contest_up...</td>\n",
       "      <td>Update</td>\n",
       "    </tr>\n",
       "    <tr>\n",
       "      <th>3</th>\n",
       "      <td>Data Scientist Interview Process at Microsoft ...</td>\n",
       "      <td>&lt;https://medium.com/_/stat?event=email.opened...</td>\n",
       "      <td>Update</td>\n",
       "    </tr>\n",
       "    <tr>\n",
       "      <th>4</th>\n",
       "      <td>[GitHub Education Community] Summary</td>\n",
       "      <td>A brief summary since your last visit on Novem...</td>\n",
       "      <td>Update</td>\n",
       "    </tr>\n",
       "  </tbody>\n",
       "</table>\n",
       "</div>"
      ],
      "text/plain": [
       "                                             Subject  \\\n",
       "0  Why are BITS Hyderabad students protesting aga...   \n",
       "1                     Review your latest connections   \n",
       "2                  Grab your rewards on Cloud DevJam   \n",
       "3  Data Scientist Interview Process at Microsoft ...   \n",
       "4               [GitHub Education Community] Summary   \n",
       "\n",
       "                                                Body   Label  \n",
       "0  I don’t think any more explanation is needed a...  Update  \n",
       "1  See Atreya's and other people's connections, e...  Update  \n",
       "2  \\t\\n <https://www.techgig.com/files/contest_up...  Update  \n",
       "3   <https://medium.com/_/stat?event=email.opened...  Update  \n",
       "4  A brief summary since your last visit on Novem...  Update  "
      ]
     },
     "execution_count": 108,
     "metadata": {},
     "output_type": "execute_result"
    }
   ],
   "source": [
    "df_mail_sushant.head()"
   ]
  },
  {
   "cell_type": "code",
   "execution_count": 109,
   "metadata": {},
   "outputs": [],
   "source": [
    "from sklearn import preprocessing\n",
    "label_encoder = preprocessing.LabelEncoder()     #Labels have been encoded\n",
    "df_mail_rishab['Label'] = label_encoder.fit_transform(df_mail_rishab['Label'])\n",
    "df_mail_sushant['Label'] = label_encoder.fit_transform(df_mail_sushant['Label'])"
   ]
  },
  {
   "cell_type": "code",
   "execution_count": 110,
   "metadata": {},
   "outputs": [],
   "source": [
    "df_mail_shruti['Label'] = label_encoder.fit_transform(df_mail_shruti['Label'])"
   ]
  },
  {
   "cell_type": "code",
   "execution_count": 111,
   "metadata": {},
   "outputs": [
    {
     "data": {
      "text/plain": [
       "array([4, 2, 1, 0, 3])"
      ]
     },
     "execution_count": 111,
     "metadata": {},
     "output_type": "execute_result"
    }
   ],
   "source": [
    "df_mail_rishab['Label'].unique()    "
   ]
  },
  {
   "cell_type": "code",
   "execution_count": 112,
   "metadata": {},
   "outputs": [
    {
     "data": {
      "text/plain": [
       "array([4, 2, 1, 0, 3])"
      ]
     },
     "execution_count": 112,
     "metadata": {},
     "output_type": "execute_result"
    }
   ],
   "source": [
    "df_mail_sushant['Label'].unique()    "
   ]
  },
  {
   "cell_type": "code",
   "execution_count": 113,
   "metadata": {},
   "outputs": [
    {
     "data": {
      "text/plain": [
       "array([4, 2, 1, 0, 3])"
      ]
     },
     "execution_count": 113,
     "metadata": {},
     "output_type": "execute_result"
    }
   ],
   "source": [
    "df_mail_sushant['Label'].unique()    "
   ]
  },
  {
   "cell_type": "code",
   "execution_count": 114,
   "metadata": {},
   "outputs": [
    {
     "data": {
      "text/html": [
       "<div>\n",
       "<style scoped>\n",
       "    .dataframe tbody tr th:only-of-type {\n",
       "        vertical-align: middle;\n",
       "    }\n",
       "\n",
       "    .dataframe tbody tr th {\n",
       "        vertical-align: top;\n",
       "    }\n",
       "\n",
       "    .dataframe thead th {\n",
       "        text-align: right;\n",
       "    }\n",
       "</style>\n",
       "<table border=\"1\" class=\"dataframe\">\n",
       "  <thead>\n",
       "    <tr style=\"text-align: right;\">\n",
       "      <th></th>\n",
       "      <th>0</th>\n",
       "    </tr>\n",
       "  </thead>\n",
       "  <tbody>\n",
       "    <tr>\n",
       "      <th>0</th>\n",
       "      <td>Security alert \\t\\n\\t &lt;https://www.gstatic.com...</td>\n",
       "    </tr>\n",
       "    <tr>\n",
       "      <th>1</th>\n",
       "      <td>Trade SOL and Share $150,000 in SOL!  &lt;https:/...</td>\n",
       "    </tr>\n",
       "    <tr>\n",
       "      <th>2</th>\n",
       "      <td>Your sign-in has changed \\t\\n\\t &lt;https://www.g...</td>\n",
       "    </tr>\n",
       "    <tr>\n",
       "      <th>3</th>\n",
       "      <td>Make Your Stablecoins More Stable!  &lt;https://p...</td>\n",
       "    </tr>\n",
       "    <tr>\n",
       "      <th>4</th>\n",
       "      <td>The 2% Theory community is waiting for you! He...</td>\n",
       "    </tr>\n",
       "    <tr>\n",
       "      <th>...</th>\n",
       "      <td>...</td>\n",
       "    </tr>\n",
       "    <tr>\n",
       "      <th>1391</th>\n",
       "      <td>Confirmation,Receipt ! &lt;https://d15k2d11r6t6rl...</td>\n",
       "    </tr>\n",
       "    <tr>\n",
       "      <th>1392</th>\n",
       "      <td>ʙɪᴅᴇɴ: ɪʀᴀꜱ, 401(ᴋ)ꜱ ᴀʀᴇ ꜱᴀꜰᴇ! ᴀᴍᴇʀɪᴄᴀɴꜱ ᴡᴏʀʀʏ...</td>\n",
       "    </tr>\n",
       "    <tr>\n",
       "      <th>1393</th>\n",
       "      <td>🎉Celebrations Begin At Home 🏠 Make Your Happy ...</td>\n",
       "    </tr>\n",
       "    <tr>\n",
       "      <th>1394</th>\n",
       "      <td>Do you feel like fucking a sexy gal? Last seen...</td>\n",
       "    </tr>\n",
       "    <tr>\n",
       "      <th>1395</th>\n",
       "      <td>rishabkabdi99@gmail.com, Today's Offer: Flat 6...</td>\n",
       "    </tr>\n",
       "  </tbody>\n",
       "</table>\n",
       "<p>1396 rows × 1 columns</p>\n",
       "</div>"
      ],
      "text/plain": [
       "                                                      0\n",
       "0     Security alert \\t\\n\\t <https://www.gstatic.com...\n",
       "1     Trade SOL and Share $150,000 in SOL!  <https:/...\n",
       "2     Your sign-in has changed \\t\\n\\t <https://www.g...\n",
       "3     Make Your Stablecoins More Stable!  <https://p...\n",
       "4     The 2% Theory community is waiting for you! He...\n",
       "...                                                 ...\n",
       "1391  Confirmation,Receipt ! <https://d15k2d11r6t6rl...\n",
       "1392  ʙɪᴅᴇɴ: ɪʀᴀꜱ, 401(ᴋ)ꜱ ᴀʀᴇ ꜱᴀꜰᴇ! ᴀᴍᴇʀɪᴄᴀɴꜱ ᴡᴏʀʀʏ...\n",
       "1393  🎉Celebrations Begin At Home 🏠 Make Your Happy ...\n",
       "1394  Do you feel like fucking a sexy gal? Last seen...\n",
       "1395  rishabkabdi99@gmail.com, Today's Offer: Flat 6...\n",
       "\n",
       "[1396 rows x 1 columns]"
      ]
     },
     "execution_count": 114,
     "metadata": {},
     "output_type": "execute_result"
    }
   ],
   "source": [
    "var_rishab=pd.DataFrame(df_mail_rishab['Subject'] + ' ' +df_mail_rishab['Body'])    #subject and body concatenated\n",
    "var_rishab"
   ]
  },
  {
   "cell_type": "code",
   "execution_count": 116,
   "metadata": {},
   "outputs": [],
   "source": [
    "var_sushant=pd.DataFrame(df_mail_sushant['Subject'] + ' ' +df_mail_sushant['Body'])    #subject and body concatenated"
   ]
  },
  {
   "cell_type": "code",
   "execution_count": 117,
   "metadata": {},
   "outputs": [],
   "source": [
    "var_shruti=pd.DataFrame(df_mail_shruti['Subject'] + ' ' +df_mail_shruti['Body'])    #subject and body concatenated"
   ]
  },
  {
   "cell_type": "code",
   "execution_count": 118,
   "metadata": {},
   "outputs": [
    {
     "data": {
      "text/html": [
       "<div>\n",
       "<style scoped>\n",
       "    .dataframe tbody tr th:only-of-type {\n",
       "        vertical-align: middle;\n",
       "    }\n",
       "\n",
       "    .dataframe tbody tr th {\n",
       "        vertical-align: top;\n",
       "    }\n",
       "\n",
       "    .dataframe thead th {\n",
       "        text-align: right;\n",
       "    }\n",
       "</style>\n",
       "<table border=\"1\" class=\"dataframe\">\n",
       "  <thead>\n",
       "    <tr style=\"text-align: right;\">\n",
       "      <th></th>\n",
       "      <th>Label</th>\n",
       "    </tr>\n",
       "  </thead>\n",
       "  <tbody>\n",
       "    <tr>\n",
       "      <th>count</th>\n",
       "      <td>1396.000000</td>\n",
       "    </tr>\n",
       "    <tr>\n",
       "      <th>mean</th>\n",
       "      <td>2.188395</td>\n",
       "    </tr>\n",
       "    <tr>\n",
       "      <th>std</th>\n",
       "      <td>1.168724</td>\n",
       "    </tr>\n",
       "    <tr>\n",
       "      <th>min</th>\n",
       "      <td>0.000000</td>\n",
       "    </tr>\n",
       "    <tr>\n",
       "      <th>25%</th>\n",
       "      <td>1.000000</td>\n",
       "    </tr>\n",
       "    <tr>\n",
       "      <th>50%</th>\n",
       "      <td>2.000000</td>\n",
       "    </tr>\n",
       "    <tr>\n",
       "      <th>75%</th>\n",
       "      <td>3.000000</td>\n",
       "    </tr>\n",
       "    <tr>\n",
       "      <th>max</th>\n",
       "      <td>4.000000</td>\n",
       "    </tr>\n",
       "  </tbody>\n",
       "</table>\n",
       "</div>"
      ],
      "text/plain": [
       "             Label\n",
       "count  1396.000000\n",
       "mean      2.188395\n",
       "std       1.168724\n",
       "min       0.000000\n",
       "25%       1.000000\n",
       "50%       2.000000\n",
       "75%       3.000000\n",
       "max       4.000000"
      ]
     },
     "execution_count": 118,
     "metadata": {},
     "output_type": "execute_result"
    }
   ],
   "source": [
    "Y_rishab=pd.DataFrame(df_mail_rishab['Label'])\n",
    "Y_rishab.describe()"
   ]
  },
  {
   "cell_type": "code",
   "execution_count": 119,
   "metadata": {},
   "outputs": [
    {
     "data": {
      "text/html": [
       "<div>\n",
       "<style scoped>\n",
       "    .dataframe tbody tr th:only-of-type {\n",
       "        vertical-align: middle;\n",
       "    }\n",
       "\n",
       "    .dataframe tbody tr th {\n",
       "        vertical-align: top;\n",
       "    }\n",
       "\n",
       "    .dataframe thead th {\n",
       "        text-align: right;\n",
       "    }\n",
       "</style>\n",
       "<table border=\"1\" class=\"dataframe\">\n",
       "  <thead>\n",
       "    <tr style=\"text-align: right;\">\n",
       "      <th></th>\n",
       "      <th>Label</th>\n",
       "    </tr>\n",
       "  </thead>\n",
       "  <tbody>\n",
       "    <tr>\n",
       "      <th>count</th>\n",
       "      <td>1356.000000</td>\n",
       "    </tr>\n",
       "    <tr>\n",
       "      <th>mean</th>\n",
       "      <td>2.163717</td>\n",
       "    </tr>\n",
       "    <tr>\n",
       "      <th>std</th>\n",
       "      <td>1.394151</td>\n",
       "    </tr>\n",
       "    <tr>\n",
       "      <th>min</th>\n",
       "      <td>0.000000</td>\n",
       "    </tr>\n",
       "    <tr>\n",
       "      <th>25%</th>\n",
       "      <td>1.000000</td>\n",
       "    </tr>\n",
       "    <tr>\n",
       "      <th>50%</th>\n",
       "      <td>2.000000</td>\n",
       "    </tr>\n",
       "    <tr>\n",
       "      <th>75%</th>\n",
       "      <td>3.000000</td>\n",
       "    </tr>\n",
       "    <tr>\n",
       "      <th>max</th>\n",
       "      <td>4.000000</td>\n",
       "    </tr>\n",
       "  </tbody>\n",
       "</table>\n",
       "</div>"
      ],
      "text/plain": [
       "             Label\n",
       "count  1356.000000\n",
       "mean      2.163717\n",
       "std       1.394151\n",
       "min       0.000000\n",
       "25%       1.000000\n",
       "50%       2.000000\n",
       "75%       3.000000\n",
       "max       4.000000"
      ]
     },
     "execution_count": 119,
     "metadata": {},
     "output_type": "execute_result"
    }
   ],
   "source": [
    "Y_sushant=pd.DataFrame(df_mail_sushant['Label'])\n",
    "Y_sushant.describe()"
   ]
  },
  {
   "cell_type": "code",
   "execution_count": 120,
   "metadata": {},
   "outputs": [
    {
     "data": {
      "text/html": [
       "<div>\n",
       "<style scoped>\n",
       "    .dataframe tbody tr th:only-of-type {\n",
       "        vertical-align: middle;\n",
       "    }\n",
       "\n",
       "    .dataframe tbody tr th {\n",
       "        vertical-align: top;\n",
       "    }\n",
       "\n",
       "    .dataframe thead th {\n",
       "        text-align: right;\n",
       "    }\n",
       "</style>\n",
       "<table border=\"1\" class=\"dataframe\">\n",
       "  <thead>\n",
       "    <tr style=\"text-align: right;\">\n",
       "      <th></th>\n",
       "      <th>Label</th>\n",
       "    </tr>\n",
       "  </thead>\n",
       "  <tbody>\n",
       "    <tr>\n",
       "      <th>count</th>\n",
       "      <td>1365.000000</td>\n",
       "    </tr>\n",
       "    <tr>\n",
       "      <th>mean</th>\n",
       "      <td>2.127473</td>\n",
       "    </tr>\n",
       "    <tr>\n",
       "      <th>std</th>\n",
       "      <td>1.413648</td>\n",
       "    </tr>\n",
       "    <tr>\n",
       "      <th>min</th>\n",
       "      <td>0.000000</td>\n",
       "    </tr>\n",
       "    <tr>\n",
       "      <th>25%</th>\n",
       "      <td>1.000000</td>\n",
       "    </tr>\n",
       "    <tr>\n",
       "      <th>50%</th>\n",
       "      <td>2.000000</td>\n",
       "    </tr>\n",
       "    <tr>\n",
       "      <th>75%</th>\n",
       "      <td>3.000000</td>\n",
       "    </tr>\n",
       "    <tr>\n",
       "      <th>max</th>\n",
       "      <td>4.000000</td>\n",
       "    </tr>\n",
       "  </tbody>\n",
       "</table>\n",
       "</div>"
      ],
      "text/plain": [
       "             Label\n",
       "count  1365.000000\n",
       "mean      2.127473\n",
       "std       1.413648\n",
       "min       0.000000\n",
       "25%       1.000000\n",
       "50%       2.000000\n",
       "75%       3.000000\n",
       "max       4.000000"
      ]
     },
     "execution_count": 120,
     "metadata": {},
     "output_type": "execute_result"
    }
   ],
   "source": [
    "Y_shruti=pd.DataFrame(df_mail_shruti['Label'])\n",
    "Y_shruti.describe()"
   ]
  },
  {
   "cell_type": "code",
   "execution_count": 121,
   "metadata": {},
   "outputs": [],
   "source": [
    "X_rishab=var_rishab"
   ]
  },
  {
   "cell_type": "code",
   "execution_count": 122,
   "metadata": {},
   "outputs": [],
   "source": [
    "X_sushant=var_sushant"
   ]
  },
  {
   "cell_type": "code",
   "execution_count": 123,
   "metadata": {},
   "outputs": [],
   "source": [
    "X_shruti=var_shruti"
   ]
  },
  {
   "cell_type": "code",
   "execution_count": 124,
   "metadata": {},
   "outputs": [],
   "source": [
    "X_rishab = X_rishab[0]\n",
    "Y_rishab = Y_rishab.Label"
   ]
  },
  {
   "cell_type": "code",
   "execution_count": 125,
   "metadata": {},
   "outputs": [],
   "source": [
    "X_sushant = X_sushant[0]\n",
    "Y_sushant = Y_sushant.Label"
   ]
  },
  {
   "cell_type": "code",
   "execution_count": 126,
   "metadata": {},
   "outputs": [],
   "source": [
    "X_shruti = X_shruti[0]\n",
    "Y_shruti = Y_shruti.Label"
   ]
  },
  {
   "cell_type": "code",
   "execution_count": 127,
   "metadata": {},
   "outputs": [],
   "source": [
    "from sklearn.model_selection import train_test_split\n",
    "X_train_rishab, X_test_rishab, y_train_rishab, y_test_rishab = train_test_split(X_rishab, Y_rishab, test_size=0.2, random_state=10)\n",
    "X_train_sushant, X_test_sushant, y_train_sushant, y_test_sushant = train_test_split(X_sushant, Y_sushant, test_size=0.2, random_state=10)"
   ]
  },
  {
   "cell_type": "code",
   "execution_count": 128,
   "metadata": {},
   "outputs": [],
   "source": [
    "X_train_shruti, X_test_shruti, y_train_shruti, y_test_shruti = train_test_split(X_shruti, Y_shruti, test_size=0.2, random_state=10)"
   ]
  },
  {
   "cell_type": "code",
   "execution_count": 129,
   "metadata": {},
   "outputs": [
    {
     "data": {
      "text/plain": [
       "60      Alert: JoSAA, Seat Allocation (Round 3) \\t\\n <...\n",
       "817     Weekly newsletter of Stores Domino - Issue #14...\n",
       "589     Rishab Kabdi, you're getting noticed See who's...\n",
       "104     Notification from Axis Bank Dear Customer, We ...\n",
       "1138    I use dirty talk to get you what you want <htt...\n",
       "                              ...                        \n",
       "1147    rishabkabdi99, Play Now With 300% Welcome Bonu...\n",
       "1344    Get your FREE LeafFilter Estimate now and save...\n",
       "527     HCL Technologies is looking for: Data Scientis...\n",
       "1149    confirmation <https://d15k2d11r6t6rl.cloudfron...\n",
       "1289    rishabkabdi99@gmail.com, Book free* railway ti...\n",
       "Name: 0, Length: 1116, dtype: object"
      ]
     },
     "execution_count": 129,
     "metadata": {},
     "output_type": "execute_result"
    }
   ],
   "source": [
    "X_train_rishab"
   ]
  },
  {
   "cell_type": "code",
   "execution_count": 130,
   "metadata": {},
   "outputs": [
    {
     "data": {
      "text/plain": [
       "count                                                  1116\n",
       "unique                                                 1116\n",
       "top       🍀 👨‍🌾   Don't miss out on the Biggest Plant Di...\n",
       "freq                                                      1\n",
       "Name: 0, dtype: object"
      ]
     },
     "execution_count": 130,
     "metadata": {},
     "output_type": "execute_result"
    }
   ],
   "source": [
    "X_train_rishab.head()\n",
    "y_train_rishab.head()\n",
    "X_train_rishab.describe()"
   ]
  },
  {
   "cell_type": "code",
   "execution_count": 131,
   "metadata": {},
   "outputs": [],
   "source": [
    "import re\n",
    "def clean_text(text):\n",
    "    text = text.lower()\n",
    "    text = re.sub(r\"what's\", \"what is \", text)\n",
    "    text = re.sub(r\"\\'s\", \" \", text)\n",
    "    text = re.sub(r\"\\'ve\", \" have \", text)\n",
    "    text = re.sub(r\"can't\", \"cannot \", text)\n",
    "    text = re.sub(r\"n't\", \" not \", text)\n",
    "    text = re.sub(r\"i'm\", \"i am \", text)\n",
    "    text = re.sub(r\"\\'re\", \" are \", text)\n",
    "    text = re.sub(r\"\\'d\", \" would \", text)\n",
    "    text = re.sub(r\"\\'ll\", \" will \", text)\n",
    "    text = re.sub(r\"\\'scuse\", \" excuse \", text)\n",
    "    text = re.sub('\\W', ' ', text)\n",
    "    text = re.sub('\\s+', ' ', text)\n",
    "    text = re.sub(r'http\\S+', '', text)\n",
    "    \n",
    "    text = text.strip('\\t')\n",
    "    text = text.strip('\\n')\n",
    "    text = text.strip('\\\\')\n",
    "    \n",
    "    text = text.strip(' ')\n",
    "    \n",
    "    \n",
    "    return text"
   ]
  },
  {
   "cell_type": "code",
   "execution_count": 132,
   "metadata": {},
   "outputs": [],
   "source": [
    "X_train_rishab=pd.DataFrame(X_train_rishab)\n",
    "X_test_rishab=pd.DataFrame(X_test_rishab)"
   ]
  },
  {
   "cell_type": "code",
   "execution_count": 133,
   "metadata": {},
   "outputs": [],
   "source": [
    "X_train_sushant=pd.DataFrame(X_train_sushant)\n",
    "X_test_sushant=pd.DataFrame(X_test_sushant)"
   ]
  },
  {
   "cell_type": "code",
   "execution_count": 134,
   "metadata": {},
   "outputs": [],
   "source": [
    "X_train_shruti=pd.DataFrame(X_train_shruti)\n",
    "X_test_shruti=pd.DataFrame(X_test_shruti)"
   ]
  },
  {
   "cell_type": "code",
   "execution_count": 135,
   "metadata": {},
   "outputs": [],
   "source": [
    "X_train_rishab[0] = X_train_rishab[0].map(lambda com : clean_text(com))    #Data cleaned\n",
    "X_test_rishab[0] = X_test_rishab[0].map(lambda com : clean_text(com))"
   ]
  },
  {
   "cell_type": "code",
   "execution_count": 136,
   "metadata": {},
   "outputs": [],
   "source": [
    "X_train_sushant[0] = X_train_sushant[0].map(lambda com : clean_text(com))    #Data cleaned\n",
    "X_test_sushant[0] = X_test_sushant[0].map(lambda com : clean_text(com))"
   ]
  },
  {
   "cell_type": "code",
   "execution_count": 137,
   "metadata": {},
   "outputs": [],
   "source": [
    "X_train_shruti[0] = X_train_shruti[0].map(lambda com : clean_text(com))    #Data cleaned\n",
    "X_test_shruti[0] = X_test_shruti[0].map(lambda com : clean_text(com))"
   ]
  },
  {
   "cell_type": "code",
   "execution_count": 138,
   "metadata": {},
   "outputs": [
    {
     "data": {
      "text/html": [
       "<div>\n",
       "<style scoped>\n",
       "    .dataframe tbody tr th:only-of-type {\n",
       "        vertical-align: middle;\n",
       "    }\n",
       "\n",
       "    .dataframe tbody tr th {\n",
       "        vertical-align: top;\n",
       "    }\n",
       "\n",
       "    .dataframe thead th {\n",
       "        text-align: right;\n",
       "    }\n",
       "</style>\n",
       "<table border=\"1\" class=\"dataframe\">\n",
       "  <thead>\n",
       "    <tr style=\"text-align: right;\">\n",
       "      <th></th>\n",
       "      <th>Body</th>\n",
       "    </tr>\n",
       "  </thead>\n",
       "  <tbody>\n",
       "    <tr>\n",
       "      <th>60</th>\n",
       "      <td>alert josaa seat allocation round 3  www shiks...</td>\n",
       "    </tr>\n",
       "    <tr>\n",
       "      <th>817</th>\n",
       "      <td>weekly newsletter of stores domino issue 14 de...</td>\n",
       "    </tr>\n",
       "    <tr>\n",
       "      <th>589</th>\n",
       "      <td>rishab kabdi you are getting noticed see who l...</td>\n",
       "    </tr>\n",
       "    <tr>\n",
       "      <th>104</th>\n",
       "      <td>notification from axis bank dear customer we w...</td>\n",
       "    </tr>\n",
       "    <tr>\n",
       "      <th>1138</th>\n",
       "      <td>i use dirty talk to get you what you want http...</td>\n",
       "    </tr>\n",
       "    <tr>\n",
       "      <th>...</th>\n",
       "      <td>...</td>\n",
       "    </tr>\n",
       "    <tr>\n",
       "      <th>1147</th>\n",
       "      <td>rishabkabdi99 play now with 300 welcome bonus ...</td>\n",
       "    </tr>\n",
       "    <tr>\n",
       "      <th>1344</th>\n",
       "      <td>get your free leaffilter estimate now and save...</td>\n",
       "    </tr>\n",
       "    <tr>\n",
       "      <th>527</th>\n",
       "      <td>hcl technologies is looking for data scientist...</td>\n",
       "    </tr>\n",
       "    <tr>\n",
       "      <th>1149</th>\n",
       "      <td>confirmation  d15k2d11r6t6rl cloudfront net pu...</td>\n",
       "    </tr>\n",
       "    <tr>\n",
       "      <th>1289</th>\n",
       "      <td>rishabkabdi99 gmail com book free railway tick...</td>\n",
       "    </tr>\n",
       "  </tbody>\n",
       "</table>\n",
       "<p>1116 rows × 1 columns</p>\n",
       "</div>"
      ],
      "text/plain": [
       "                                                   Body\n",
       "60    alert josaa seat allocation round 3  www shiks...\n",
       "817   weekly newsletter of stores domino issue 14 de...\n",
       "589   rishab kabdi you are getting noticed see who l...\n",
       "104   notification from axis bank dear customer we w...\n",
       "1138  i use dirty talk to get you what you want http...\n",
       "...                                                 ...\n",
       "1147  rishabkabdi99 play now with 300 welcome bonus ...\n",
       "1344  get your free leaffilter estimate now and save...\n",
       "527   hcl technologies is looking for data scientist...\n",
       "1149  confirmation  d15k2d11r6t6rl cloudfront net pu...\n",
       "1289  rishabkabdi99 gmail com book free railway tick...\n",
       "\n",
       "[1116 rows x 1 columns]"
      ]
     },
     "execution_count": 138,
     "metadata": {},
     "output_type": "execute_result"
    }
   ],
   "source": [
    "X_train_rishab[\"Body\"] = X_train_rishab[0]\n",
    "X_train_sushant[\"Body\"] = X_train_sushant[0]\n",
    "X_train_rishab = X_train_rishab.drop(labels= 0, axis=1)\n",
    "\n",
    "X_train_rishab"
   ]
  },
  {
   "cell_type": "code",
   "execution_count": 139,
   "metadata": {},
   "outputs": [],
   "source": [
    "X_train_sushant = X_train_sushant.drop(labels= 0, axis=1)\n"
   ]
  },
  {
   "cell_type": "code",
   "execution_count": 140,
   "metadata": {},
   "outputs": [],
   "source": [
    "X_train_shruti[\"Body\"] = X_train_shruti[0]\n",
    "X_train_shruti = X_train_shruti.drop(labels= 0, axis=1)\n"
   ]
  },
  {
   "cell_type": "code",
   "execution_count": 141,
   "metadata": {},
   "outputs": [],
   "source": [
    "X_test_rishab[\"Body\"] = X_test_rishab[0]\n",
    "X_test_sushant[\"Body\"] = X_test_sushant[0]\n",
    "X_test_rishab = X_test_rishab.drop(labels= 0, axis=1)\n",
    "X_test_sushant = X_test_sushant.drop(labels= 0, axis=1)\n"
   ]
  },
  {
   "cell_type": "code",
   "execution_count": 142,
   "metadata": {},
   "outputs": [],
   "source": [
    "X_test_shruti[\"Body\"] = X_test_shruti[0]\n",
    "X_test_shruti = X_test_shruti.drop(labels= 0, axis=1)"
   ]
  },
  {
   "cell_type": "code",
   "execution_count": 143,
   "metadata": {},
   "outputs": [
    {
     "data": {
      "text/plain": [
       "4    258\n",
       "2    242\n",
       "3    202\n",
       "1    197\n",
       "0    185\n",
       "Name: Label, dtype: int64"
      ]
     },
     "execution_count": 143,
     "metadata": {},
     "output_type": "execute_result"
    }
   ],
   "source": [
    "y_train_sushant.value_counts()"
   ]
  },
  {
   "cell_type": "code",
   "execution_count": 144,
   "metadata": {},
   "outputs": [
    {
     "data": {
      "text/plain": [
       "pandas.core.frame.DataFrame"
      ]
     },
     "execution_count": 144,
     "metadata": {},
     "output_type": "execute_result"
    }
   ],
   "source": [
    "type(X_train_rishab)"
   ]
  },
  {
   "cell_type": "code",
   "execution_count": 145,
   "metadata": {},
   "outputs": [
    {
     "data": {
      "text/plain": [
       "7       4\n",
       "1048    0\n",
       "326     2\n",
       "564     2\n",
       "689     2\n",
       "Name: Label, dtype: int32"
      ]
     },
     "execution_count": 145,
     "metadata": {},
     "output_type": "execute_result"
    }
   ],
   "source": [
    "y_test_rishab.head()"
   ]
  },
  {
   "cell_type": "code",
   "execution_count": 146,
   "metadata": {},
   "outputs": [
    {
     "data": {
      "text/plain": [
       "TfidfVectorizer(ngram_range=(1, 4))"
      ]
     },
     "execution_count": 146,
     "metadata": {},
     "output_type": "execute_result"
    }
   ],
   "source": [
    "from sklearn.feature_extraction.text import CountVectorizer\n",
    "from sklearn.feature_extraction.text import TfidfVectorizer\n",
    "cv=TfidfVectorizer(ngram_range=(1,4))       # 1 gram, 2 gram, 3 gram and 4 gram used for feature extraction\n",
    "cv.fit(X_train_rishab['Body'])\n",
    "cv.fit(X_train_sushant['Body'])"
   ]
  },
  {
   "cell_type": "code",
   "execution_count": 147,
   "metadata": {},
   "outputs": [
    {
     "data": {
      "text/plain": [
       "TfidfVectorizer(ngram_range=(1, 4))"
      ]
     },
     "execution_count": 147,
     "metadata": {},
     "output_type": "execute_result"
    }
   ],
   "source": [
    "cv.fit(X_train_shruti['Body'])"
   ]
  },
  {
   "cell_type": "code",
   "execution_count": 148,
   "metadata": {},
   "outputs": [
    {
     "data": {
      "text/plain": [
       "scipy.sparse.csr.csr_matrix"
      ]
     },
     "execution_count": 148,
     "metadata": {},
     "output_type": "execute_result"
    }
   ],
   "source": [
    "dtv_rishab = cv.transform(X_train_rishab['Body'])\n",
    "dtv_sushant = cv.transform(X_train_sushant['Body'])\n",
    "type(dtv_rishab)"
   ]
  },
  {
   "cell_type": "code",
   "execution_count": 149,
   "metadata": {},
   "outputs": [],
   "source": [
    "dtv_shruti = cv.transform(X_train_shruti['Body'])"
   ]
  },
  {
   "cell_type": "code",
   "execution_count": 150,
   "metadata": {},
   "outputs": [],
   "source": [
    "dtv_rishab = dtv_rishab.toarray()\n",
    "dtv_sushant = dtv_sushant.toarray()"
   ]
  },
  {
   "cell_type": "code",
   "execution_count": 151,
   "metadata": {},
   "outputs": [],
   "source": [
    "dtv_shruti = dtv_shruti.toarray()"
   ]
  },
  {
   "cell_type": "code",
   "execution_count": 152,
   "metadata": {},
   "outputs": [
    {
     "name": "stdout",
     "output_type": "stream",
     "text": [
      "Rishab_Training Data Shape: (1116,)\n",
      "Rishab_Test Data Shape: (280,)\n",
      "Sushant_Training Data Shape: (1084,)\n",
      "Sushant_Test Data Shape: (272,)\n",
      "Shruti_Training Data Shape: (1092,)\n",
      "Shruti_Test Data Shape: (273,)\n"
     ]
    }
   ],
   "source": [
    "print(f\"Rishab_Training Data Shape: {X_train_rishab['Body'].shape}\\nRishab_Test Data Shape: {X_test_rishab['Body'].shape}\")\n",
    "print(f\"Sushant_Training Data Shape: {X_train_sushant['Body'].shape}\\nSushant_Test Data Shape: {X_test_sushant['Body'].shape}\")\n",
    "print(f\"Shruti_Training Data Shape: {X_train_shruti['Body'].shape}\\nShruti_Test Data Shape: {X_test_shruti['Body'].shape}\")"
   ]
  },
  {
   "cell_type": "code",
   "execution_count": 153,
   "metadata": {},
   "outputs": [
    {
     "name": "stdout",
     "output_type": "stream",
     "text": [
      "Number of Observations in Rishab: 1116\n",
      "Tokens/Features in Rishab: 521489\n",
      "Number of Observations in Sushant: 1084\n",
      "Tokens/Features in Sushant: 521489\n",
      "Number of Observations in Shruti: 1092\n",
      "Tokens/Features in Shruti: 521489\n"
     ]
    }
   ],
   "source": [
    "print(f\"Number of Observations in Rishab: {dtv_rishab.shape[0]}\\nTokens/Features in Rishab: {dtv_rishab.shape[1]}\")\n",
    "print(f\"Number of Observations in Sushant: {dtv_sushant.shape[0]}\\nTokens/Features in Sushant: {dtv_sushant.shape[1]}\")\n",
    "print(f\"Number of Observations in Shruti: {dtv_shruti.shape[0]}\\nTokens/Features in Shruti: {dtv_shruti.shape[1]}\")"
   ]
  },
  {
   "cell_type": "code",
   "execution_count": 154,
   "metadata": {},
   "outputs": [
    {
     "name": "stdout",
     "output_type": "stream",
     "text": [
      "Random Forest        trained in 65.74 sec in Rishab's dataset\n",
      "MultinomialNB        trained in 16.83 sec in Rishab's dataset\n",
      "KNN                  trained in 87.83 sec in Rishab's dataset\n",
      "Decision Tree        trained in 57.08 sec in Rishab's dataset\n",
      "SVM                  trained in 5.17 sec in Rishab's dataset\n",
      "Wall time: 4min 11s\n"
     ]
    }
   ],
   "source": [
    "%%time\n",
    "from sklearn.model_selection import train_test_split\n",
    "from sklearn.ensemble import RandomForestClassifier\n",
    "from sklearn.naive_bayes import MultinomialNB\n",
    "from sklearn.linear_model import LogisticRegression\n",
    "from sklearn.neighbors import KNeighborsClassifier\n",
    "from sklearn.tree import DecisionTreeClassifier\n",
    "from sklearn.svm import LinearSVC, SVC\n",
    "from time import perf_counter\n",
    "import warnings\n",
    "warnings.filterwarnings(action='ignore')\n",
    "models = {\n",
    "    \"Random Forest\": {\"model\":RandomForestClassifier(), \"perf\":0},\n",
    "    \"MultinomialNB\": {\"model\":MultinomialNB(), \"perf\":0},\n",
    "    \"KNN\": {\"model\":KNeighborsClassifier(), \"perf\":0},\n",
    "    \"Decision Tree\": {\"model\":DecisionTreeClassifier(), \"perf\":0},\n",
    "    \"SVM\": {\"model\":LinearSVC(), \"perf\":0}\n",
    "}\n",
    "\n",
    "for name, model in models.items():\n",
    "    start = perf_counter()\n",
    "    model['model'].fit(dtv_rishab, y_train_rishab)\n",
    "    duration = perf_counter() - start\n",
    "    duration = round(duration,2)\n",
    "    model[\"perf\"] = duration\n",
    "    print(f\"{name:20} trained in {duration} sec in Rishab's dataset\")"
   ]
  },
  {
   "cell_type": "code",
   "execution_count": 158,
   "metadata": {},
   "outputs": [
    {
     "name": "stdout",
     "output_type": "stream",
     "text": [
      "Random Forest        trained in 104.44 sec in Sushant's dataset\n",
      "MultinomialNB        trained in 10.31 sec in Sushant's dataset\n",
      "KNN                  trained in 132.72 sec in Sushant's dataset\n",
      "Decision Tree        trained in 134.36 sec in Sushant's dataset\n",
      "SVM                  trained in 10.84 sec in Sushant's dataset\n"
     ]
    }
   ],
   "source": [
    "for name, model in models.items():\n",
    "    start = perf_counter()\n",
    "    model['model'].fit(dtv_sushant, y_train_sushant)\n",
    "    duration = perf_counter() - start\n",
    "    duration = round(duration,2)\n",
    "    model[\"perf\"] = duration\n",
    "    print(f\"{name:20} trained in {duration} sec in Sushant's dataset\")"
   ]
  },
  {
   "cell_type": "code",
   "execution_count": 162,
   "metadata": {},
   "outputs": [
    {
     "name": "stdout",
     "output_type": "stream",
     "text": [
      "Random Forest        trained in 79.79 sec in Shruti's dataset\n",
      "MultinomialNB        trained in 7.38 sec in Shruti's dataset\n",
      "KNN                  trained in 110.01 sec in Shruti's dataset\n",
      "Decision Tree        trained in 168.78 sec in Shruti's dataset\n",
      "SVM                  trained in 11.67 sec in Shruti's dataset\n"
     ]
    }
   ],
   "source": [
    "for name, model in models.items():\n",
    "    start = perf_counter()\n",
    "    model['model'].fit(dtv_shruti, y_train_shruti)\n",
    "    duration = perf_counter() - start\n",
    "    duration = round(duration,2)\n",
    "    model[\"perf\"] = duration\n",
    "    print(f\"{name:20} trained in {duration} sec in Shruti's dataset\")"
   ]
  },
  {
   "cell_type": "code",
   "execution_count": 155,
   "metadata": {},
   "outputs": [
    {
     "name": "stdout",
     "output_type": "stream",
     "text": [
      "Number of Observations in Rishab's test dataset: 280\n",
      "Tokens: 521489\n"
     ]
    }
   ],
   "source": [
    "test_dtv_rishab = cv.transform(X_test_rishab['Body'])\n",
    "test_dtv_rishab = test_dtv_rishab.toarray()\n",
    "print(f\"Number of Observations in Rishab's test dataset: {test_dtv_rishab.shape[0]}\\nTokens: {test_dtv_rishab.shape[1]}\")"
   ]
  },
  {
   "cell_type": "code",
   "execution_count": 159,
   "metadata": {},
   "outputs": [
    {
     "name": "stdout",
     "output_type": "stream",
     "text": [
      "Number of Observations in Sushant's test dataset: 272\n",
      "Tokens: 521489\n"
     ]
    }
   ],
   "source": [
    "test_dtv_sushant = cv.transform(X_test_sushant['Body'])\n",
    "test_dtv_sushant = test_dtv_sushant.toarray()\n",
    "print(f\"Number of Observations in Sushant's test dataset: {test_dtv_sushant.shape[0]}\\nTokens: {test_dtv_sushant.shape[1]}\")"
   ]
  },
  {
   "cell_type": "code",
   "execution_count": 163,
   "metadata": {},
   "outputs": [
    {
     "name": "stdout",
     "output_type": "stream",
     "text": [
      "Number of Observations in Shruti's test dataset: 273\n",
      "Tokens: 521489\n"
     ]
    }
   ],
   "source": [
    "test_dtv_shruti = cv.transform(X_test_shruti['Body'])\n",
    "test_dtv_shruti = test_dtv_shruti.toarray()\n",
    "print(f\"Number of Observations in Shruti's test dataset: {test_dtv_shruti.shape[0]}\\nTokens: {test_dtv_shruti.shape[1]}\")"
   ]
  },
  {
   "cell_type": "code",
   "execution_count": 156,
   "metadata": {},
   "outputs": [],
   "source": [
    "models_accuracy_rishab = []\n",
    "for name, model in models.items():\n",
    "    models_accuracy_rishab.append([name, model[\"model\"].score(test_dtv_rishab, y_test_rishab),model[\"perf\"]])"
   ]
  },
  {
   "cell_type": "code",
   "execution_count": 160,
   "metadata": {},
   "outputs": [],
   "source": [
    "models_accuracy_sushant = []\n",
    "for name, model in models.items():\n",
    "    models_accuracy_sushant.append([name, model[\"model\"].score(test_dtv_sushant, y_test_sushant),model[\"perf\"]])"
   ]
  },
  {
   "cell_type": "code",
   "execution_count": 164,
   "metadata": {},
   "outputs": [],
   "source": [
    "models_accuracy_shruti = []\n",
    "for name, model in models.items():\n",
    "    models_accuracy_shruti.append([name, model[\"model\"].score(test_dtv_shruti, y_test_shruti),model[\"perf\"]])"
   ]
  },
  {
   "cell_type": "code",
   "execution_count": 157,
   "metadata": {},
   "outputs": [
    {
     "data": {
      "text/html": [
       "<div>\n",
       "<style scoped>\n",
       "    .dataframe tbody tr th:only-of-type {\n",
       "        vertical-align: middle;\n",
       "    }\n",
       "\n",
       "    .dataframe tbody tr th {\n",
       "        vertical-align: top;\n",
       "    }\n",
       "\n",
       "    .dataframe thead th {\n",
       "        text-align: right;\n",
       "    }\n",
       "</style>\n",
       "<table border=\"1\" class=\"dataframe\">\n",
       "  <thead>\n",
       "    <tr style=\"text-align: right;\">\n",
       "      <th></th>\n",
       "      <th>Model</th>\n",
       "      <th>Test Accuracy</th>\n",
       "      <th>Training time (sec)</th>\n",
       "    </tr>\n",
       "  </thead>\n",
       "  <tbody>\n",
       "    <tr>\n",
       "      <th>0</th>\n",
       "      <td>Decision Tree</td>\n",
       "      <td>0.892857</td>\n",
       "      <td>57.08</td>\n",
       "    </tr>\n",
       "    <tr>\n",
       "      <th>1</th>\n",
       "      <td>SVM</td>\n",
       "      <td>0.892857</td>\n",
       "      <td>5.17</td>\n",
       "    </tr>\n",
       "    <tr>\n",
       "      <th>2</th>\n",
       "      <td>Random Forest</td>\n",
       "      <td>0.875000</td>\n",
       "      <td>65.74</td>\n",
       "    </tr>\n",
       "    <tr>\n",
       "      <th>3</th>\n",
       "      <td>MultinomialNB</td>\n",
       "      <td>0.835714</td>\n",
       "      <td>16.83</td>\n",
       "    </tr>\n",
       "    <tr>\n",
       "      <th>4</th>\n",
       "      <td>KNN</td>\n",
       "      <td>0.832143</td>\n",
       "      <td>87.83</td>\n",
       "    </tr>\n",
       "  </tbody>\n",
       "</table>\n",
       "</div>"
      ],
      "text/plain": [
       "           Model  Test Accuracy  Training time (sec)\n",
       "0  Decision Tree       0.892857                57.08\n",
       "1            SVM       0.892857                 5.17\n",
       "2  Random Forest       0.875000                65.74\n",
       "3  MultinomialNB       0.835714                16.83\n",
       "4            KNN       0.832143                87.83"
      ]
     },
     "execution_count": 157,
     "metadata": {},
     "output_type": "execute_result"
    }
   ],
   "source": [
    "df_accuracy_rishab = pd.DataFrame(models_accuracy_rishab)\n",
    "df_accuracy_rishab.columns = ['Model', 'Test Accuracy', 'Training time (sec)']\n",
    "df_accuracy_rishab.sort_values(by = 'Test Accuracy', ascending = False, inplace=True)\n",
    "df_accuracy_rishab.reset_index(drop = True, inplace=True)\n",
    "df_accuracy_rishab"
   ]
  },
  {
   "cell_type": "code",
   "execution_count": 161,
   "metadata": {},
   "outputs": [
    {
     "data": {
      "text/html": [
       "<div>\n",
       "<style scoped>\n",
       "    .dataframe tbody tr th:only-of-type {\n",
       "        vertical-align: middle;\n",
       "    }\n",
       "\n",
       "    .dataframe tbody tr th {\n",
       "        vertical-align: top;\n",
       "    }\n",
       "\n",
       "    .dataframe thead th {\n",
       "        text-align: right;\n",
       "    }\n",
       "</style>\n",
       "<table border=\"1\" class=\"dataframe\">\n",
       "  <thead>\n",
       "    <tr style=\"text-align: right;\">\n",
       "      <th></th>\n",
       "      <th>Model</th>\n",
       "      <th>Test Accuracy</th>\n",
       "      <th>Training time (sec)</th>\n",
       "    </tr>\n",
       "  </thead>\n",
       "  <tbody>\n",
       "    <tr>\n",
       "      <th>0</th>\n",
       "      <td>Random Forest</td>\n",
       "      <td>0.952206</td>\n",
       "      <td>104.44</td>\n",
       "    </tr>\n",
       "    <tr>\n",
       "      <th>1</th>\n",
       "      <td>SVM</td>\n",
       "      <td>0.933824</td>\n",
       "      <td>10.84</td>\n",
       "    </tr>\n",
       "    <tr>\n",
       "      <th>2</th>\n",
       "      <td>Decision Tree</td>\n",
       "      <td>0.882353</td>\n",
       "      <td>134.36</td>\n",
       "    </tr>\n",
       "    <tr>\n",
       "      <th>3</th>\n",
       "      <td>MultinomialNB</td>\n",
       "      <td>0.863971</td>\n",
       "      <td>10.31</td>\n",
       "    </tr>\n",
       "    <tr>\n",
       "      <th>4</th>\n",
       "      <td>KNN</td>\n",
       "      <td>0.856618</td>\n",
       "      <td>132.72</td>\n",
       "    </tr>\n",
       "  </tbody>\n",
       "</table>\n",
       "</div>"
      ],
      "text/plain": [
       "           Model  Test Accuracy  Training time (sec)\n",
       "0  Random Forest       0.952206               104.44\n",
       "1            SVM       0.933824                10.84\n",
       "2  Decision Tree       0.882353               134.36\n",
       "3  MultinomialNB       0.863971                10.31\n",
       "4            KNN       0.856618               132.72"
      ]
     },
     "execution_count": 161,
     "metadata": {},
     "output_type": "execute_result"
    }
   ],
   "source": [
    "df_accuracy_sushant = pd.DataFrame(models_accuracy_sushant)\n",
    "df_accuracy_sushant.columns = ['Model', 'Test Accuracy', 'Training time (sec)']\n",
    "df_accuracy_sushant.sort_values(by = 'Test Accuracy', ascending = False, inplace=True)\n",
    "df_accuracy_sushant.reset_index(drop = True, inplace=True)\n",
    "df_accuracy_sushant"
   ]
  },
  {
   "cell_type": "code",
   "execution_count": 165,
   "metadata": {},
   "outputs": [
    {
     "data": {
      "text/html": [
       "<div>\n",
       "<style scoped>\n",
       "    .dataframe tbody tr th:only-of-type {\n",
       "        vertical-align: middle;\n",
       "    }\n",
       "\n",
       "    .dataframe tbody tr th {\n",
       "        vertical-align: top;\n",
       "    }\n",
       "\n",
       "    .dataframe thead th {\n",
       "        text-align: right;\n",
       "    }\n",
       "</style>\n",
       "<table border=\"1\" class=\"dataframe\">\n",
       "  <thead>\n",
       "    <tr style=\"text-align: right;\">\n",
       "      <th></th>\n",
       "      <th>Model</th>\n",
       "      <th>Test Accuracy</th>\n",
       "      <th>Training time (sec)</th>\n",
       "    </tr>\n",
       "  </thead>\n",
       "  <tbody>\n",
       "    <tr>\n",
       "      <th>0</th>\n",
       "      <td>SVM</td>\n",
       "      <td>0.937729</td>\n",
       "      <td>11.67</td>\n",
       "    </tr>\n",
       "    <tr>\n",
       "      <th>1</th>\n",
       "      <td>Random Forest</td>\n",
       "      <td>0.919414</td>\n",
       "      <td>79.79</td>\n",
       "    </tr>\n",
       "    <tr>\n",
       "      <th>2</th>\n",
       "      <td>MultinomialNB</td>\n",
       "      <td>0.879121</td>\n",
       "      <td>7.38</td>\n",
       "    </tr>\n",
       "    <tr>\n",
       "      <th>3</th>\n",
       "      <td>KNN</td>\n",
       "      <td>0.879121</td>\n",
       "      <td>110.01</td>\n",
       "    </tr>\n",
       "    <tr>\n",
       "      <th>4</th>\n",
       "      <td>Decision Tree</td>\n",
       "      <td>0.871795</td>\n",
       "      <td>168.78</td>\n",
       "    </tr>\n",
       "  </tbody>\n",
       "</table>\n",
       "</div>"
      ],
      "text/plain": [
       "           Model  Test Accuracy  Training time (sec)\n",
       "0            SVM       0.937729                11.67\n",
       "1  Random Forest       0.919414                79.79\n",
       "2  MultinomialNB       0.879121                 7.38\n",
       "3            KNN       0.879121               110.01\n",
       "4  Decision Tree       0.871795               168.78"
      ]
     },
     "execution_count": 165,
     "metadata": {},
     "output_type": "execute_result"
    }
   ],
   "source": [
    "df_accuracy_shruti = pd.DataFrame(models_accuracy_shruti)\n",
    "df_accuracy_shruti.columns = ['Model', 'Test Accuracy', 'Training time (sec)']\n",
    "df_accuracy_shruti.sort_values(by = 'Test Accuracy', ascending = False, inplace=True)\n",
    "df_accuracy_shruti.reset_index(drop = True, inplace=True)\n",
    "df_accuracy_shruti"
   ]
  },
  {
   "cell_type": "code",
   "execution_count": 1,
   "metadata": {
    "collapsed": true
   },
   "outputs": [
    {
     "ename": "NameError",
     "evalue": "name 'df_accuracy' is not defined",
     "output_type": "error",
     "traceback": [
      "\u001b[1;31m---------------------------------------------------------------------------\u001b[0m",
      "\u001b[1;31mNameError\u001b[0m                                 Traceback (most recent call last)",
      "\u001b[1;32m<ipython-input-1-e1677ba46182>\u001b[0m in \u001b[0;36m<module>\u001b[1;34m\u001b[0m\n\u001b[0;32m      3\u001b[0m \u001b[0msns\u001b[0m\u001b[1;33m.\u001b[0m\u001b[0mset_style\u001b[0m\u001b[1;33m(\u001b[0m\u001b[1;34m'whitegrid'\u001b[0m\u001b[1;33m)\u001b[0m\u001b[1;33m\u001b[0m\u001b[1;33m\u001b[0m\u001b[0m\n\u001b[0;32m      4\u001b[0m \u001b[1;33m\u001b[0m\u001b[0m\n\u001b[1;32m----> 5\u001b[1;33m \u001b[0mpal\u001b[0m \u001b[1;33m=\u001b[0m \u001b[0msns\u001b[0m\u001b[1;33m.\u001b[0m\u001b[0mcolor_palette\u001b[0m\u001b[1;33m(\u001b[0m\u001b[1;34m\"Greens_d\"\u001b[0m\u001b[1;33m,\u001b[0m \u001b[0mlen\u001b[0m\u001b[1;33m(\u001b[0m\u001b[0mdf_accuracy\u001b[0m\u001b[1;33m)\u001b[0m\u001b[1;33m)\u001b[0m\u001b[1;33m\u001b[0m\u001b[1;33m\u001b[0m\u001b[0m\n\u001b[0m\u001b[0;32m      6\u001b[0m \u001b[0mrank\u001b[0m \u001b[1;33m=\u001b[0m \u001b[0mdf_accuracy\u001b[0m\u001b[1;33m[\u001b[0m\u001b[1;34m'Test Accuracy'\u001b[0m\u001b[1;33m]\u001b[0m\u001b[1;33m.\u001b[0m\u001b[0margsort\u001b[0m\u001b[1;33m(\u001b[0m\u001b[1;33m)\u001b[0m\u001b[1;33m.\u001b[0m\u001b[0margsort\u001b[0m\u001b[1;33m(\u001b[0m\u001b[1;33m)\u001b[0m\u001b[1;33m\u001b[0m\u001b[1;33m\u001b[0m\u001b[0m\n\u001b[0;32m      7\u001b[0m \u001b[1;33m\u001b[0m\u001b[0m\n",
      "\u001b[1;31mNameError\u001b[0m: name 'df_accuracy' is not defined"
     ]
    }
   ],
   "source": [
    "\n",
    "import matplotlib.pyplot as plt\n",
    "import seaborn as sns\n",
    "sns.set_style('whitegrid')\n",
    "\n",
    "pal = sns.color_palette(\"Greens_d\", len(df_accuracy))\n",
    "rank = df_accuracy['Test Accuracy'].argsort().argsort() \n",
    "\n",
    "plt.figure(figsize = (15,5))\n",
    "g = sns.barplot(x = 'Model', y ='Test Accuracy', data = df_accuracy, palette=np.array(pal[::-1])[rank])\n",
    "plt.title('Accuracy on the test set\\n', fontsize = 15)\n",
    "plt.ylim(0.8,0.87)\n",
    "for index, row in df_accuracy.iterrows():\n",
    "    g.text(row.name,row['Test Accuracy'], round(row['Test Accuracy'],4), color='black', ha=\"center\")\n",
    "\n",
    "plt.show()"
   ]
  },
  {
   "cell_type": "code",
   "execution_count": 61,
   "metadata": {},
   "outputs": [
    {
     "data": {
      "image/png": "[encoded data removed]",
      "text/plain": [
       "<Figure size 1080x360 with 1 Axes>"
      ]
     },
     "metadata": {},
     "output_type": "display_data"
    }
   ],
   "source": [
    "\n",
    "pal = sns.color_palette(\"Greens_d\", len(df_accuracy))\n",
    "rank = df_accuracy['Training time (sec)'].argsort().argsort() \n",
    "\n",
    "plt.figure(figsize = (15,5))\n",
    "sns.barplot(x = 'Model', y = 'Training time (sec)', data = df_accuracy)\n",
    "plt.title('Training time for each model in sec', fontsize = 15)\n",
    "plt.ylim(0,15)\n",
    "plt.show()"
   ]
  },
  {
   "cell_type": "code",
   "execution_count": 3,
   "metadata": {},
   "outputs": [],
   "source": [
    "import numpy as np \n",
    "import matplotlib.pyplot as plt"
   ]
  },
  {
   "cell_type": "code",
   "execution_count": null,
   "metadata": {},
   "outputs": [],
   "source": []
  },
  {
   "cell_type": "code",
   "execution_count": 166,
   "metadata": {},
   "outputs": [
    {
     "data": {
      "image/png": "[encoded data removed]",
      "text/plain": [
       "<Figure size 720x288 with 1 Axes>"
      ]
     },
     "metadata": {},
     "output_type": "display_data"
    }
   ],
   "source": [
    "mods=['SVM','MultinomialNB','KNN MODEL','Random Forest','Decision Tree']\n",
    "acc_rishab=[0.893,0.836,0.832,0.875,0.893]\n",
    "acc_sushant=[0.934,0.864,0.856,0.952,0.882]\n",
    "acc_shruti=[0.938,0.879,0.879,0.916,0.890]\n",
    "\n",
    "X_axis = np.arange(len(mods))\n",
    "plt.rcParams[\"figure.figsize\"] = (10, 4)\n",
    "\n",
    "plt.bar(X_axis - 0.3, acc_sushant, 0.2, label = 'Sushant')\n",
    "plt.bar(X_axis - 0.1, acc_rishab, 0.2, label = 'Rishab')\n",
    "plt.bar(X_axis + 0.1, acc_shruti, 0.2, label = 'Shruti')\n",
    " \n",
    "plt.xticks(X_axis, mods)\n",
    "plt.xlabel(\"Model\")\n",
    "plt.ylabel(\"Accuracy\")\n",
    "plt.title(\"Accuracy vs Model\",loc='center')\n",
    "plt.legend(loc=\"upper center\", bbox_to_anchor=(0.8, 1.05), ncol=3)\n",
    "plt.ylim(0.4,1)\n",
    "\n",
    "plt.show()"
   ]
  },
  {
   "cell_type": "code",
   "execution_count": 84,
   "metadata": {},
   "outputs": [
    {
     "data": {
      "image/png": "[encoded data removed]",
      "text/plain": [
       "<Figure size 720x288 with 1 Axes>"
      ]
     },
     "metadata": {},
     "output_type": "display_data"
    }
   ],
   "source": [
    "mods=['SVM','MultinomialNB','KNN MODEL','Random Forest','Decision Tree']\n",
    "time_rishab=[10.38,16.12,105.03,107.06,55.12]\n",
    "time_sushant=[10.84,34.62,106.07,89.01,113.06]\n",
    "time_shruti=[5.91,17.79,90.88,83.44,101.58]\n",
    "\n",
    "X_axis = np.arange(len(mods))\n",
    "plt.rcParams[\"figure.figsize\"] = (10, 4)\n",
    "\n",
    "plt.bar(X_axis - 0.3, time_sushant, 0.2, label = 'Sushant')\n",
    "plt.bar(X_axis - 0.1, time_rishab, 0.2, label = 'Rishab')\n",
    "plt.bar(X_axis + 0.1, time_shruti, 0.2, label = 'Shruti')\n",
    " \n",
    "plt.xticks(X_axis, mods)\n",
    "plt.xlabel(\"Model\")\n",
    "plt.ylabel(\"Time(seconds)\")\n",
    "plt.title(\"Time taken per Model vs Model\",loc='center')\n",
    "plt.legend(loc=\"upper center\", bbox_to_anchor=(0.2, 1), ncol=3)\n",
    "plt.show()"
   ]
  },
  {
   "cell_type": "code",
   "execution_count": 167,
   "metadata": {},
   "outputs": [
    {
     "data": {
      "text/plain": [
       "array([0.92166667, 0.85966667, 0.85566667, 0.91433333, 0.88833333])"
      ]
     },
     "execution_count": 167,
     "metadata": {},
     "output_type": "execute_result"
    }
   ],
   "source": [
    "np_a_rishab=np.array(acc_rishab)\n",
    "np_a_sushant=np.array(acc_sushant)\n",
    "np_a_shruti=np.array(acc_shruti)\n",
    "np_av_acc=np_a_rishab+np_a_sushant+np_a_shruti\n",
    "np_av_acc=np_av_acc/3\n",
    "np_av_acc"
   ]
  },
  {
   "cell_type": "code",
   "execution_count": 168,
   "metadata": {},
   "outputs": [
    {
     "data": {
      "image/png": "[encoded data removed]",
      "text/plain": [
       "<Figure size 720x288 with 1 Axes>"
      ]
     },
     "metadata": {},
     "output_type": "display_data"
    }
   ],
   "source": [
    "X_axis = np.arange(len(mods))\n",
    "plt.rcParams[\"figure.figsize\"] = (10, 4)\n",
    "\n",
    "plt.bar(X_axis, np_av_acc)\n",
    "\n",
    "plt.xticks(X_axis, mods)\n",
    "plt.xlabel(\"Model\")\n",
    "plt.ylabel(\"Accuracy\")\n",
    "plt.title(\"Average accuracy vs Model\",loc='center')\n",
    "#plt.legend(loc=\"upper center\", bbox_to_anchor=(0.2, 1), ncol=3)\n",
    "\n",
    "plt.ylim(0.6,1)\n",
    "\n",
    "plt.show()"
   ]
  },
  {
   "cell_type": "markdown",
   "metadata": {},
   "source": [
    "#### "
   ]
  }
 ],
 "metadata": {
  "kernelspec": {
   "display_name": "Python 3",
   "language": "python",
   "name": "python3"
  },
  "language_info": {
   "codemirror_mode": {
    "name": "ipython",
    "version": 3
   },
   "file_extension": ".py",
   "mimetype": "text/x-python",
   "name": "python",
   "nbconvert_exporter": "python",
   "pygments_lexer": "ipython3",
   "version": "3.7.4"
  }
 },
 "nbformat": 4,
 "nbformat_minor": 2
}
